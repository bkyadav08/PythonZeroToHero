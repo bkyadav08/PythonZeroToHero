{
 "cells": [
  {
   "cell_type": "code",
   "execution_count": 4,
   "id": "4b7fc5cb",
   "metadata": {},
   "outputs": [
    {
     "data": {
      "text/plain": [
       "'/Users/bibekyadav/Desktop/Python From Zero To Hero'"
      ]
     },
     "execution_count": 4,
     "metadata": {},
     "output_type": "execute_result"
    }
   ],
   "source": [
    "pwd"
   ]
  },
  {
   "cell_type": "code",
   "execution_count": 5,
   "id": "15ac0fb3",
   "metadata": {},
   "outputs": [
    {
     "ename": "NameError",
     "evalue": "name 'myfile' is not defined",
     "output_type": "error",
     "traceback": [
      "\u001b[0;31m---------------------------------------------------------------------------\u001b[0m",
      "\u001b[0;31mNameError\u001b[0m                                 Traceback (most recent call last)",
      "\u001b[0;32m/var/folders/nq/rzjpbg2s6379bjhpkk9pz9z00000gn/T/ipykernel_12475/4105800277.py\u001b[0m in \u001b[0;36m<module>\u001b[0;34m\u001b[0m\n\u001b[0;32m----> 1\u001b[0;31m \u001b[0mmyfile\u001b[0m\u001b[0;34m.\u001b[0m\u001b[0mtxt\u001b[0m\u001b[0;34m\u001b[0m\u001b[0;34m\u001b[0m\u001b[0m\n\u001b[0m",
      "\u001b[0;31mNameError\u001b[0m: name 'myfile' is not defined"
     ]
    }
   ],
   "source": [
    "myfile.txt"
   ]
  },
  {
   "cell_type": "code",
   "execution_count": 6,
   "id": "a01aa33c",
   "metadata": {},
   "outputs": [
    {
     "name": "stdout",
     "output_type": "stream",
     "text": [
      "Overwriting myfile.txt\n"
     ]
    }
   ],
   "source": [
    "%%writefile myfile.txt\n",
    "Hello this is a tect file\n",
    "this is the second line\n",
    "this is the third line"
   ]
  },
  {
   "cell_type": "code",
   "execution_count": 8,
   "id": "a31a4114",
   "metadata": {},
   "outputs": [],
   "source": [
    "myfile = open('myfile.txt')"
   ]
  },
  {
   "cell_type": "code",
   "execution_count": 10,
   "id": "38b4f043",
   "metadata": {},
   "outputs": [
    {
     "data": {
      "text/plain": [
       "'/Users/bibekyadav/Desktop/Python From Zero To Hero'"
      ]
     },
     "execution_count": 10,
     "metadata": {},
     "output_type": "execute_result"
    }
   ],
   "source": [
    "pwd"
   ]
  },
  {
   "cell_type": "code",
   "execution_count": 11,
   "id": "10bc4b6b",
   "metadata": {},
   "outputs": [],
   "source": [
    "myfile = open('myfile.txt')"
   ]
  },
  {
   "cell_type": "code",
   "execution_count": 12,
   "id": "4d3e2754",
   "metadata": {},
   "outputs": [
    {
     "data": {
      "text/plain": [
       "'Hello this is a tect file\\nthis is the second line\\nthis is the third line\\n'"
      ]
     },
     "execution_count": 12,
     "metadata": {},
     "output_type": "execute_result"
    }
   ],
   "source": [
    "myfile.read()  # here we asked for a single string"
   ]
  },
  {
   "cell_type": "code",
   "execution_count": 13,
   "id": "40320021",
   "metadata": {},
   "outputs": [
    {
     "data": {
      "text/plain": [
       "''"
      ]
     },
     "execution_count": 13,
     "metadata": {},
     "output_type": "execute_result"
    }
   ],
   "source": [
    "myfile.read() # its not reading because there is a cursor at the begining and we need to reset the cursor."
   ]
  },
  {
   "cell_type": "code",
   "execution_count": 14,
   "id": "0a1b767c",
   "metadata": {},
   "outputs": [
    {
     "data": {
      "text/plain": [
       "0"
      ]
     },
     "execution_count": 14,
     "metadata": {},
     "output_type": "execute_result"
    }
   ],
   "source": [
    "myfile.seek(0)  # .seek(0) will reset the cursor at the beginning"
   ]
  },
  {
   "cell_type": "code",
   "execution_count": 15,
   "id": "8e11b3ee",
   "metadata": {},
   "outputs": [
    {
     "data": {
      "text/plain": [
       "'Hello this is a tect file\\nthis is the second line\\nthis is the third line\\n'"
      ]
     },
     "execution_count": 15,
     "metadata": {},
     "output_type": "execute_result"
    }
   ],
   "source": [
    "myfile.read()"
   ]
  },
  {
   "cell_type": "code",
   "execution_count": 16,
   "id": "e9526e69",
   "metadata": {},
   "outputs": [
    {
     "data": {
      "text/plain": [
       "0"
      ]
     },
     "execution_count": 16,
     "metadata": {},
     "output_type": "execute_result"
    }
   ],
   "source": [
    "myfile.seek(0)"
   ]
  },
  {
   "cell_type": "code",
   "execution_count": 17,
   "id": "129350be",
   "metadata": {},
   "outputs": [
    {
     "data": {
      "text/plain": [
       "'Hello this is a tect file\\nthis is the second line\\nthis is the third line\\n'"
      ]
     },
     "execution_count": 17,
     "metadata": {},
     "output_type": "execute_result"
    }
   ],
   "source": [
    "myfile.read()"
   ]
  },
  {
   "cell_type": "code",
   "execution_count": 18,
   "id": "a6636cee",
   "metadata": {},
   "outputs": [
    {
     "data": {
      "text/plain": [
       "''"
      ]
     },
     "execution_count": 18,
     "metadata": {},
     "output_type": "execute_result"
    }
   ],
   "source": [
    "myfile.read()"
   ]
  },
  {
   "cell_type": "code",
   "execution_count": 19,
   "id": "7a9031bc",
   "metadata": {},
   "outputs": [
    {
     "data": {
      "text/plain": [
       "0"
      ]
     },
     "execution_count": 19,
     "metadata": {},
     "output_type": "execute_result"
    }
   ],
   "source": [
    "myfile.seek(0)"
   ]
  },
  {
   "cell_type": "code",
   "execution_count": 20,
   "id": "591da6ef",
   "metadata": {},
   "outputs": [],
   "source": [
    "contents = myfile.read()"
   ]
  },
  {
   "cell_type": "code",
   "execution_count": 21,
   "id": "de2ca230",
   "metadata": {},
   "outputs": [
    {
     "data": {
      "text/plain": [
       "'Hello this is a tect file\\nthis is the second line\\nthis is the third line\\n'"
      ]
     },
     "execution_count": 21,
     "metadata": {},
     "output_type": "execute_result"
    }
   ],
   "source": [
    "contents"
   ]
  },
  {
   "cell_type": "code",
   "execution_count": 22,
   "id": "99748f80",
   "metadata": {},
   "outputs": [
    {
     "data": {
      "text/plain": [
       "0"
      ]
     },
     "execution_count": 22,
     "metadata": {},
     "output_type": "execute_result"
    }
   ],
   "source": [
    "myfile.seek(0)"
   ]
  },
  {
   "cell_type": "code",
   "execution_count": 23,
   "id": "7bc42081",
   "metadata": {},
   "outputs": [
    {
     "data": {
      "text/plain": [
       "['Hello this is a tect file\\n',\n",
       " 'this is the second line\\n',\n",
       " 'this is the third line\\n']"
      ]
     },
     "execution_count": 23,
     "metadata": {},
     "output_type": "execute_result"
    }
   ],
   "source": [
    "myfile.readlines()  # readlines will grab a list where each element represent a line."
   ]
  },
  {
   "cell_type": "markdown",
   "id": "bc2fcf38",
   "metadata": {},
   "source": [
    "# File Location  0r File Path\n",
    "# Syntax\n",
    "# myfile = open(\"/Users/YourUserName/Folder/myfile.txt\")"
   ]
  },
  {
   "cell_type": "code",
   "execution_count": 24,
   "id": "a2021b56",
   "metadata": {},
   "outputs": [
    {
     "data": {
      "text/plain": [
       "'/Users/bibekyadav/Desktop/Python From Zero To Hero'"
      ]
     },
     "execution_count": 24,
     "metadata": {},
     "output_type": "execute_result"
    }
   ],
   "source": [
    "pwd"
   ]
  },
  {
   "cell_type": "markdown",
   "id": "1a21ba0e",
   "metadata": {},
   "source": [
    "# Best Practices for opening and closing a file"
   ]
  },
  {
   "cell_type": "code",
   "execution_count": 25,
   "id": "28df8f61",
   "metadata": {},
   "outputs": [],
   "source": [
    "myfile.close()"
   ]
  },
  {
   "cell_type": "code",
   "execution_count": 27,
   "id": "055d6b14",
   "metadata": {},
   "outputs": [],
   "source": [
    "myfile = open('myfile.txt')  # old way of doing"
   ]
  },
  {
   "cell_type": "code",
   "execution_count": 30,
   "id": "63b31fc2",
   "metadata": {},
   "outputs": [],
   "source": [
    "with open('myfile.txt') as my_new_file:   # With this syntax,no need to worry about closing a file. \n",
    "    contents = my_new_file.read()\n"
   ]
  },
  {
   "cell_type": "code",
   "execution_count": 31,
   "id": "9a805b1e",
   "metadata": {},
   "outputs": [
    {
     "data": {
      "text/plain": [
       "'Hello this is a tect file\\nthis is the second line\\nthis is the third line\\n'"
      ]
     },
     "execution_count": 31,
     "metadata": {},
     "output_type": "execute_result"
    }
   ],
   "source": [
    "contents"
   ]
  },
  {
   "cell_type": "markdown",
   "id": "ece0d2cb",
   "metadata": {},
   "source": [
    "# Writing a file"
   ]
  },
  {
   "cell_type": "code",
   "execution_count": 36,
   "id": "a7468744",
   "metadata": {},
   "outputs": [],
   "source": [
    "with open('myfile.txt',mode='r') as myfile:\n",
    "    contents = myfile.read()"
   ]
  },
  {
   "cell_type": "code",
   "execution_count": 33,
   "id": "b9b55cec",
   "metadata": {},
   "outputs": [
    {
     "data": {
      "text/plain": [
       "'Hello this is a tect file\\nthis is the second line\\nthis is the third line\\n'"
      ]
     },
     "execution_count": 33,
     "metadata": {},
     "output_type": "execute_result"
    }
   ],
   "source": [
    "contents"
   ]
  },
  {
   "cell_type": "code",
   "execution_count": null,
   "id": "5700b9ae",
   "metadata": {},
   "outputs": [],
   "source": []
  }
 ],
 "metadata": {
  "kernelspec": {
   "display_name": "Python 3 (ipykernel)",
   "language": "python",
   "name": "python3"
  },
  "language_info": {
   "codemirror_mode": {
    "name": "ipython",
    "version": 3
   },
   "file_extension": ".py",
   "mimetype": "text/x-python",
   "name": "python",
   "nbconvert_exporter": "python",
   "pygments_lexer": "ipython3",
   "version": "3.9.7"
  }
 },
 "nbformat": 4,
 "nbformat_minor": 5
}

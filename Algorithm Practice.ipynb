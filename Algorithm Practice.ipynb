{
 "cells": [
  {
   "cell_type": "code",
   "execution_count": 7,
   "id": "4b1d8a19",
   "metadata": {},
   "outputs": [],
   "source": [
    "my_list = [1,3,5,7,9] \n",
    "\n",
    "# Write a Program to find the index of an element in the given list.\n",
    "\n",
    "def binary_search(my_list, item):\n",
    "    low = 0\n",
    "    high = len(my_list)-1\n",
    "    \n",
    "    while low <= high:\n",
    "        mid = (low + high)\n",
    "        guess = my_list[mid]\n",
    "        if guess == item:\n",
    "            return mid\n",
    "        if guess>item:\n",
    "            high = mid -1\n",
    "        else:\n",
    "            low = mid + 1\n",
    "    return -1\n",
    "           "
   ]
  },
  {
   "cell_type": "code",
   "execution_count": 8,
   "id": "ec374732",
   "metadata": {},
   "outputs": [
    {
     "data": {
      "text/plain": [
       "-1"
      ]
     },
     "execution_count": 8,
     "metadata": {},
     "output_type": "execute_result"
    }
   ],
   "source": [
    "binary_search(my_list,10)"
   ]
  },
  {
   "cell_type": "code",
   "execution_count": 14,
   "id": "75f01346",
   "metadata": {},
   "outputs": [
    {
     "ename": "SyntaxError",
     "evalue": "invalid syntax (3691224270.py, line 9)",
     "output_type": "error",
     "traceback": [
      "\u001b[0;36m  File \u001b[0;32m\"/var/folders/nq/rzjpbg2s6379bjhpkk9pz9z00000gn/T/ipykernel_4353/3691224270.py\"\u001b[0;36m, line \u001b[0;32m9\u001b[0m\n\u001b[0;31m    print(found the key!)\u001b[0m\n\u001b[0m                ^\u001b[0m\n\u001b[0;31mSyntaxError\u001b[0m\u001b[0;31m:\u001b[0m invalid syntax\n"
     ]
    }
   ],
   "source": [
    "def look_for_key(main_box):\n",
    "  pile = main_box.make_a_pile_to_look_through()\n",
    "  while pile is not empty:\n",
    "    box = pile.grab_a_box()\n",
    "    for item in box:\n",
    "      if item.is_a_box():\n",
    "        pile.append(item)\n",
    "      elif item.is_a_key():\n",
    "        print(found the key!)\n",
    "\n"
   ]
  },
  {
   "cell_type": "code",
   "execution_count": null,
   "id": "c8016e29",
   "metadata": {},
   "outputs": [],
   "source": []
  }
 ],
 "metadata": {
  "kernelspec": {
   "display_name": "Python 3 (ipykernel)",
   "language": "python",
   "name": "python3"
  },
  "language_info": {
   "codemirror_mode": {
    "name": "ipython",
    "version": 3
   },
   "file_extension": ".py",
   "mimetype": "text/x-python",
   "name": "python",
   "nbconvert_exporter": "python",
   "pygments_lexer": "ipython3",
   "version": "3.9.7"
  }
 },
 "nbformat": 4,
 "nbformat_minor": 5
}
